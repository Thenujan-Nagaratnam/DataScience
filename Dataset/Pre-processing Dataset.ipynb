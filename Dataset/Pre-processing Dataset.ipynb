{
 "cells": [
  {
   "cell_type": "markdown",
   "id": "e02bc160",
   "metadata": {},
   "source": [
    "Load the CSV file into a Data Frame object named \"chatterbox.\""
   ]
  },
  {
   "cell_type": "code",
   "execution_count": 1,
   "id": "a6245a0d",
   "metadata": {},
   "outputs": [],
   "source": [
    "import pandas as pd\n",
    "import numpy as np\n",
    "from sklearn.tree import DecisionTreeClassifier\n",
    "from sklearn.linear_model import LinearRegression\n",
    "from sklearn.preprocessing import OneHotEncoder\n",
    "import matplotlib.pyplot as plt\n",
    "import seaborn as sns"
   ]
  },
  {
   "cell_type": "code",
   "execution_count": 2,
   "id": "ae5dbba0",
   "metadata": {},
   "outputs": [],
   "source": [
    "chatterbox = pd.read_csv(\"employees.csv\")"
   ]
  },
  {
   "cell_type": "markdown",
   "id": "9c7d1324",
   "metadata": {},
   "source": [
    "Identify the data type of each variable."
   ]
  },
  {
   "cell_type": "code",
   "execution_count": 3,
   "id": "c0096763",
   "metadata": {
    "scrolled": false
   },
   "outputs": [],
   "source": [
    "features = chatterbox.columns"
   ]
  },
  {
   "cell_type": "code",
   "execution_count": 4,
   "id": "d9591c09",
   "metadata": {},
   "outputs": [],
   "source": [
    "# chatterbox.info"
   ]
  },
  {
   "cell_type": "code",
   "execution_count": 5,
   "id": "c72c794c",
   "metadata": {},
   "outputs": [],
   "source": [
    "# chatterbox.isna().sum()"
   ]
  },
  {
   "cell_type": "code",
   "execution_count": 6,
   "id": "edab91e2",
   "metadata": {
    "scrolled": true
   },
   "outputs": [],
   "source": [
    "(chatterbox['Employee_No'] == chatterbox['Reporting_emp_1'])"
   ]
  },
  {
   "cell_type": "code",
   "execution_count": 7,
   "id": "debf59df",
   "metadata": {},
   "outputs": [],
   "source": [
    "chatterbox.loc[(chatterbox['Employee_No'] == chatterbox['Reporting_emp_1']) , 'Reporting_emp_1'] = np.nan"
   ]
  },
  {
   "cell_type": "code",
   "execution_count": 8,
   "id": "123ade2a",
   "metadata": {},
   "outputs": [],
   "source": [
    "chatterbox.loc[((chatterbox['Date_Resigned'] == r'\\N') | (chatterbox['Date_Resigned'] == r'0000-00-00')) , 'Date_Resigned'] = chatterbox['Inactive_Date']\n",
    "\n",
    "chatterbox.loc[(chatterbox['Date_Resigned'] == r'0000-00-00') & (chatterbox['Status'] == r'Active') , 'Date_Resigned'] = r'\\N'\n",
    "chatterbox.loc[(chatterbox['Inactive_Date'] == r'0000-00-00') & (chatterbox['Status'] == r'Active') , 'Inactive_Date'] = r'\\N'"
   ]
  },
  {
   "cell_type": "code",
   "execution_count": 9,
   "id": "e048ddbe",
   "metadata": {},
   "outputs": [],
   "source": [
    "chatterbox.loc[((chatterbox['Title'] == r'Mr') | (chatterbox['Title'] == r'Miss')) & (chatterbox['Gender'] == r'Female') , 'Title'] = r'Ms'\n",
    "\n",
    "chatterbox.loc[((chatterbox['Title'] == r'Ms') | (chatterbox['Title'] == r'Miss')) & (chatterbox['Gender'] == r'Male') , 'Title'] = r'Mr'"
   ]
  },
  {
   "cell_type": "code",
   "execution_count": 10,
   "id": "7353cf99",
   "metadata": {},
   "outputs": [],
   "source": [
    "chatterbox['Year_of_Birth'] = pd.to_numeric(chatterbox['Year_of_Birth'], errors='coerce')"
   ]
  },
  {
   "cell_type": "code",
   "execution_count": 11,
   "id": "5fcf9fff",
   "metadata": {},
   "outputs": [],
   "source": [
    "chatterbox['Year_Joined'] = pd.to_datetime(chatterbox['Date_Joined']).dt.year\n",
    "\n",
    "chatterbox['Experience'] = 2022 - chatterbox['Year_Joined']"
   ]
  },
  {
   "cell_type": "code",
   "execution_count": 12,
   "id": "937354dc",
   "metadata": {},
   "outputs": [],
   "source": [
    "chatterbox.loc[chatterbox['Year_of_Birth'] == '0000', 'Year_of_Birth'] = np.nan"
   ]
  },
  {
   "cell_type": "code",
   "execution_count": 13,
   "id": "bcea87d5",
   "metadata": {},
   "outputs": [],
   "source": [
    "# Split the data into two sets: one with missing values and the other with non-missing values\n",
    "missing_values = chatterbox[chatterbox['Year_of_Birth'].isnull()]\n",
    "non_missing_values = chatterbox[chatterbox['Year_of_Birth'].notnull()]\n",
    "\n",
    "# Prepare the features and target for training\n",
    "non_missing_features = non_missing_values[['Experience', 'Designation','Marital_Status']]\n",
    "target = non_missing_values['Year_of_Birth']\n",
    "\n",
    "# Encode the 'Designation' column using one-hot encoding with handle_unknown='ignore'\n",
    "encoder = OneHotEncoder(handle_unknown='ignore')\n",
    "encoded_features = encoder.fit_transform(non_missing_features[['Designation','Marital_Status']])\n",
    "\n",
    "# Train a Decision Tree classifier model\n",
    "model = DecisionTreeClassifier()\n",
    "model.fit(encoded_features.toarray(), target)\n",
    "\n",
    "# Encode the missing values for prediction\n",
    "missing_features = missing_values[['Year_Joined', 'Designation','Marital_Status']]\n",
    "encoded_missing_features = encoder.transform(missing_features[['Designation','Marital_Status']])\n",
    "\n",
    "# Predict the missing values using the trained model\n",
    "predicted_values = model.predict(encoded_missing_features.toarray())\n",
    "\n",
    "# Fill in the missing values in the 'Year_of_Birth' column with the predicted values\n",
    "chatterbox.loc[chatterbox['Year_of_Birth'].isnull(), 'Year_of_Birth'] = np.round(predicted_values)\n",
    "\n",
    "# Convert 'Year_of_Birth' column back to integer type\n",
    "chatterbox['Year_of_Birth'] = chatterbox['Year_of_Birth'].astype(int)\n",
    "\n",
    "# Replace '0000' values with NaN\n",
    "# chatterbox['Year_of_Birth'] = chatterbox['Year_of_Birth'].replace(0, np.nan)\n",
    "\n",
    "# Print the updated DataFrame\n",
    "# print(chatterbox)\n"
   ]
  },
  {
   "cell_type": "code",
   "execution_count": 14,
   "id": "fd585519",
   "metadata": {},
   "outputs": [],
   "source": [
    "# fig, ax = plt.subplots(figsize=(14, 6))\n",
    "\n",
    "# # Create a count plot of marital status categories\n",
    "# sns.countplot(data=chatterbox, x='Age', hue='Marital_Status')\n",
    "# plt.xlabel('Age')\n",
    "# plt.ylabel('Count')\n",
    "# plt.title('Marital Status Distribution by Age')\n",
    "# plt.xticks(rotation=90)\n",
    "# plt.show()"
   ]
  },
  {
   "cell_type": "code",
   "execution_count": 15,
   "id": "200c9ceb",
   "metadata": {},
   "outputs": [],
   "source": [
    "# # Create a scatter plot of age vs. year joined\n",
    "# plt.scatter(chatterbox['Experience'], chatterbox['Age'])\n",
    "# plt.xlabel('Experience')\n",
    "# plt.ylabel('Age')\n",
    "# plt.title('Age vs. Year Joined')\n",
    "# plt.show()"
   ]
  },
  {
   "cell_type": "code",
   "execution_count": 16,
   "id": "32163996",
   "metadata": {},
   "outputs": [],
   "source": [
    "# chatterbox.isna().sum()"
   ]
  },
  {
   "cell_type": "code",
   "execution_count": 17,
   "id": "cbb128aa",
   "metadata": {},
   "outputs": [],
   "source": [
    "# chatterbox['Marital_Status11'] = chatterbox['Marital_Status']"
   ]
  },
  {
   "cell_type": "code",
   "execution_count": 18,
   "id": "12a266f8",
   "metadata": {},
   "outputs": [],
   "source": [
    "# Split the data into two sets: one with missing values and the other with non-missing values\n",
    "missing_values = chatterbox[chatterbox['Marital_Status'].isnull()]\n",
    "non_missing_values = chatterbox[chatterbox['Marital_Status'].notnull()]\n",
    "\n",
    "# Prepare the features and target for training\n",
    "non_missing_features = non_missing_values[['Year_of_Birth','Gender']]\n",
    "target = non_missing_values['Marital_Status']\n",
    "\n",
    "# Encode the 'Designation' column using one-hot encoding with handle_unknown='ignore'\n",
    "encoder = OneHotEncoder(handle_unknown='ignore')\n",
    "encoded_features = encoder.fit_transform(non_missing_features[['Year_of_Birth','Gender']])\n",
    "\n",
    "# Train a Decision Tree classifier model\n",
    "model = DecisionTreeClassifier()\n",
    "model.fit(encoded_features.toarray(), target)\n",
    "\n",
    "# Encode the missing values for prediction\n",
    "missing_features = missing_values[['Year_of_Birth','Gender']]\n",
    "encoded_missing_features = encoder.transform(missing_features[['Year_of_Birth','Gender']])\n",
    "\n",
    "# Predict the missing values using the trained model\n",
    "predicted_values = model.predict(encoded_missing_features.toarray())\n",
    "\n",
    "# Fill in the missing values in the 'Status' column with the predicted values\n",
    "chatterbox.loc[chatterbox['Marital_Status'].isnull(), 'Marital_Status'] = predicted_values\n",
    "\n",
    "# Convert 'Status' column back to string type\n",
    "chatterbox['Marital_Status'] = chatterbox['Marital_Status'].astype(str)"
   ]
  },
  {
   "cell_type": "code",
   "execution_count": null,
   "id": "3498738a",
   "metadata": {},
   "outputs": [],
   "source": []
  },
  {
   "cell_type": "code",
   "execution_count": 19,
   "id": "fdd313d8",
   "metadata": {},
   "outputs": [],
   "source": [
    "# Step 4: Identify and handle data quality issues\n",
    "chatterbox.drop_duplicates(inplace=True)"
   ]
  },
  {
   "cell_type": "code",
   "execution_count": 20,
   "id": "00f6746d",
   "metadata": {},
   "outputs": [],
   "source": [
    "# chatterbox.to_csv('check.csv', index=False)"
   ]
  },
  {
   "cell_type": "code",
   "execution_count": 21,
   "id": "0baa90da",
   "metadata": {},
   "outputs": [],
   "source": [
    "final = chatterbox[features]"
   ]
  },
  {
   "cell_type": "code",
   "execution_count": 22,
   "id": "20e6987d",
   "metadata": {},
   "outputs": [],
   "source": [
    "final.loc[final['Date_Resigned'] == r'\\N', 'Date_Resigned'] = np.nan\n",
    "\n",
    "final.loc[final['Inactive_Date'] == r'\\N', 'Inactive_Date'] = np.nan\n",
    "\n",
    "final.loc[final['Reporting_emp_1'] == r'\\N', 'Reporting_emp_1'] = np.nan\n",
    "\n",
    "final.loc[final['Reporting_emp_2'] == r'\\N', 'Reporting_emp_2'] = np.nan"
   ]
  },
  {
   "cell_type": "code",
   "execution_count": 23,
   "id": "489b011b",
   "metadata": {},
   "outputs": [],
   "source": [
    "# final['Date_Resigned'] = pd.to_datetime(final['Date_Resigned'])"
   ]
  },
  {
   "cell_type": "code",
   "execution_count": 24,
   "id": "5d07369f",
   "metadata": {},
   "outputs": [],
   "source": [
    "# final['Date_Resigned'].unique()"
   ]
  },
  {
   "cell_type": "code",
   "execution_count": 25,
   "id": "089e10c7",
   "metadata": {},
   "outputs": [],
   "source": [
    "final.to_csv('employee_preprocess_200647R.csv', index=False)"
   ]
  },
  {
   "cell_type": "code",
   "execution_count": null,
   "id": "1669d3b7",
   "metadata": {},
   "outputs": [],
   "source": []
  },
  {
   "cell_type": "code",
   "execution_count": null,
   "id": "c56826c3",
   "metadata": {},
   "outputs": [],
   "source": []
  },
  {
   "cell_type": "code",
   "execution_count": null,
   "id": "c950f8ba",
   "metadata": {},
   "outputs": [],
   "source": []
  }
 ],
 "metadata": {
  "kernelspec": {
   "display_name": "Python 3 (ipykernel)",
   "language": "python",
   "name": "python3"
  },
  "language_info": {
   "codemirror_mode": {
    "name": "ipython",
    "version": 3
   },
   "file_extension": ".py",
   "mimetype": "text/x-python",
   "name": "python",
   "nbconvert_exporter": "python",
   "pygments_lexer": "ipython3",
   "version": "3.11.3"
  }
 },
 "nbformat": 4,
 "nbformat_minor": 5
}
