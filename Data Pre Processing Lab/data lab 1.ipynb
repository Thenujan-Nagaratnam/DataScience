{
 "cells": [
  {
   "cell_type": "code",
   "execution_count": 7,
   "id": "f9ad2acd",
   "metadata": {},
   "outputs": [],
   "source": [
    "import pandas as pd\n",
    "import numpy as np"
   ]
  },
  {
   "cell_type": "code",
   "execution_count": 8,
   "id": "3b2f5b1f",
   "metadata": {},
   "outputs": [],
   "source": [
    "dataset = pd.read_csv('diabetes.csv')"
   ]
  },
  {
   "cell_type": "code",
   "execution_count": 9,
   "id": "a2d9f218",
   "metadata": {},
   "outputs": [],
   "source": [
    "dataset.drop_duplicates(inplace=True)\n",
    "\n",
    "dataset.fillna(dataset.median(), inplace=True)"
   ]
  },
  {
   "cell_type": "code",
   "execution_count": 10,
   "id": "cc9de492",
   "metadata": {},
   "outputs": [],
   "source": [
    "out_of_range = (dataset['Glucose'] < 0) | (dataset['Glucose'] > 400)\n",
    "dataset.loc[out_of_range, 'Glucose'] = np.abs(dataset['Glucose'])\n",
    "\n",
    "out_of_range = (dataset['Pregncies'] < 0) \n",
    "dataset.loc[out_of_range, 'Pregncies'] = np.abs(dataset['Pregncies'])\n",
    "\n",
    "out_of_range = (dataset['BloodPressure'] < 0) | (dataset['BloodPressure'] > 300)\n",
    "dataset.loc[out_of_range, 'BloodPressure'] = dataset['BloodPressure'].median()\n",
    "\n",
    "out_of_range = (dataset['SkinThickness'] <= 0) | (dataset['SkinThickness'] > 100)\n",
    "dataset.loc[out_of_range, 'SkinThickness'] = dataset['SkinThickness'].median()\n",
    "\n",
    "out_of_range = (dataset['Insulin'] < 0) | (dataset['Insulin'] > 1000)\n",
    "dataset.loc[out_of_range, 'Insulin'] = dataset['Insulin'].median()\n",
    "\n",
    "out_of_range = (dataset['BMI'] < 10) | (dataset['BMI'] > 60)\n",
    "dataset.loc[out_of_range, 'BMI'] = dataset['BMI'].mean()"
   ]
  },
  {
   "cell_type": "code",
   "execution_count": 11,
   "id": "0e3ed507",
   "metadata": {},
   "outputs": [],
   "source": [
    "z_scores = (dataset - dataset.mean()) / dataset.std()\n",
    "abs_z_scores = np.abs(z_scores)\n",
    "filtered_entries = (abs_z_scores < 3).all(axis=1)\n",
    "dataset = dataset[filtered_entries]"
   ]
  },
  {
   "cell_type": "code",
   "execution_count": 12,
   "id": "16c72352",
   "metadata": {},
   "outputs": [],
   "source": [
    "pre_processed_dataset = dataset\n",
    "\n",
    "student_id = \"200647.csv\" \n",
    "\n",
    "pre_processed_dataset.to_csv(student_id, index=False)"
   ]
  },
  {
   "cell_type": "code",
   "execution_count": null,
   "id": "dd75da02",
   "metadata": {},
   "outputs": [],
   "source": []
  }
 ],
 "metadata": {
  "kernelspec": {
   "display_name": "Python 3 (ipykernel)",
   "language": "python",
   "name": "python3"
  },
  "language_info": {
   "codemirror_mode": {
    "name": "ipython",
    "version": 3
   },
   "file_extension": ".py",
   "mimetype": "text/x-python",
   "name": "python",
   "nbconvert_exporter": "python",
   "pygments_lexer": "ipython3",
   "version": "3.9.13"
  }
 },
 "nbformat": 4,
 "nbformat_minor": 5
}
